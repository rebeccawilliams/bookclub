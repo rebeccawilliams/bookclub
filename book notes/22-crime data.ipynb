{
 "cells": [
  {
   "cell_type": "markdown",
   "metadata": {},
   "source": [
    "This is an analysis for the Civic Tech Book Club. Please see https://civictechbook.club/Rio-Police-Data for discussion of the data set."
   ]
  },
  {
   "cell_type": "markdown",
   "metadata": {},
   "source": [
    "Get the data. Google blocks auto-download, so it is saved on github."
   ]
  },
  {
   "cell_type": "code",
   "execution_count": 1,
   "metadata": {},
   "outputs": [],
   "source": [
    "from urllib.request import urlopen\n",
    "import pandas as pd\n",
    "\n",
    "Data_URL = 'https://raw.githubusercontent.com/b-k/large-files/master/Pedido_195_2020.csv'\n",
    "\n",
    "def get_data():    \n",
    "    \"\"\"Download a copy of the survey if we don't already have it. Return a data frame with the observations.\"\"\"\n",
    "    try:\n",
    "        return pd.read_csv(open(\"survey.csv\", 'rb'), sep=';')\n",
    "    except FileNotFoundError:\n",
    "        in_csv = urlopen(Data_URL).read().decode('ISO-8859-1')\n",
    "        f = open(\"survey.csv\", 'w')                      \n",
    "        for data in in_csv:                              \n",
    "            f.write(data) #Seems like a bug that commas are still treated as separators?\n",
    "#            f.write(data.replace(',','-')) #Seems like a bug that commas are still treated as separators?\n",
    "        \n",
    "        return pd.read_csv(open(\"survey.csv\", 'rb'), delimiter=';')"
   ]
  },
  {
   "cell_type": "code",
   "execution_count": 2,
   "metadata": {
    "scrolled": false
   },
   "outputs": [],
   "source": [
    "d=get_data()"
   ]
  },
  {
   "cell_type": "markdown",
   "metadata": {},
   "source": [
    "Define some convenience functions:"
   ]
  },
  {
   "cell_type": "code",
   "execution_count": 3,
   "metadata": {},
   "outputs": [],
   "source": [
    "# Use Python's dictionary structure for an actual dictionary.\n",
    "# I didn't translate things that seemed like easy cognates like \"Interior de taxi\" or \"Estabelecimento comercial\"\n",
    "p2e_d = {\"Floresta\": \"Forest\",\n",
    "      'Sem informação': \"No information\",\n",
    "        'Estação de barcas': \"Ferry\",\n",
    "         'Estação ferroviária': 'Train station',\n",
    "         'Estação rodoviária': 'Bus station (formal)',\n",
    "         'Interior de coletivo': 'Bus station (informal)',\n",
    "         'Estab. público estadual': \"Local government building\",\n",
    "         'Estabelecimento de ensino': 'school',\n",
    "         'Morro': 'Hill(?)',\n",
    "         'Praia': 'Beach',\n",
    "         'Clube/instituição desportiva' : 'Sports club',\n",
    "         'Mar': 'Sea',\n",
    "         'Rio': 'River',\n",
    "         'Lagoa': 'Lagoon',\n",
    "         'Campo': 'Country',\n",
    "         'Boate': 'Night club',\n",
    "         'Caixa Eletrônico': 'ATM',\n",
    "         'Conjunto habitacional': 'Apartment',\n",
    "         'Semáforo': 'Stoplight'\n",
    "        }\n",
    "\n",
    "def p2e(p_in):\n",
    "    try:\n",
    "        return p2e_d[p_in]\n",
    "    except:\n",
    "        return p_in"
   ]
  },
  {
   "cell_type": "code",
   "execution_count": 4,
   "metadata": {},
   "outputs": [],
   "source": [
    "def get_by_sex(xtab, location, sex):\n",
    "    try:\n",
    "        return locale_sex.loc[(location, sex)]\n",
    "    except:\n",
    "        return 0\n",
    "    \n",
    "# Python isn't IEEE 754 compliant, so we have to write our own division function.\n",
    "def ratio_754(a,b):\n",
    "    return a/b if b > 0 else float(\"nan\") if a==0 else float(\"inf\") if a>0 else -float(\"inf\")"
   ]
  },
  {
   "cell_type": "markdown",
   "metadata": {},
   "source": [
    "Get some aggregations via the SQL analogue groupby, which listwise deletes NaN.\n",
    "\n",
    "Then put some useful things into a single tuple:  \n",
    "[locale, percent female, count (with sex), average age]"
   ]
  },
  {
   "cell_type": "code",
   "execution_count": 5,
   "metadata": {},
   "outputs": [],
   "source": [
    "locale_sex = d.groupby([\"local\", \"sexo\"])[\"controle\"].count()\n",
    "locale_age =d.groupby([\"local\"])[\"idade\"].mean()\n",
    "locales = set([t[0] for t in locale_sex.index])"
   ]
  },
  {
   "cell_type": "code",
   "execution_count": 6,
   "metadata": {
    "scrolled": true
   },
   "outputs": [],
   "source": [
    "m_and_f = lambda L: (get_by_sex(locale_sex, L, 'feminino')+get_by_sex(locale_sex, L, 'masculino'))\n",
    "pct_f = [(L, ratio_754(get_by_sex(locale_sex, L, 'feminino'), m_and_f(L)), m_and_f(L), locale_age.loc[L]) for L in locales]"
   ]
  },
  {
   "cell_type": "markdown",
   "metadata": {},
   "source": [
    "Output: sort locations by percent female, and by average age."
   ]
  },
  {
   "cell_type": "code",
   "execution_count": 7,
   "metadata": {},
   "outputs": [
    {
     "name": "stdout",
     "output_type": "stream",
     "text": [
      "100.0%: Estab. público federal (1)\n",
      "53.8%: Estabelecimento prisional (987)\n",
      "50.0%: Ferry (4)\n",
      "43.2%: Local government building (118)\n",
      "33.3%: Casa de show (6)\n",
      "30.2%: Bus station (formal) (116)\n",
      "28.6%: Interior de taxi (35)\n",
      "27.3%: Instituição religiosa (11)\n",
      "25.1%: Bus station (informal) (573)\n",
      "25.0%: Aeroporto (8)\n",
      "20.0%: Motel (20)\n",
      "19.4%: Interior de transporte alternativo (31)\n",
      "19.2%: Estab. público municipal (26)\n",
      "16.8%: Bar/restaurante (345)\n",
      "16.7%: Supermercado (6)\n",
      "16.7%: school (42)\n",
      "15.8%: Stoplight (19)\n",
      "13.6%: No information (140)\n",
      "13.1%: Estabelecimento comercial (464)\n",
      "12.9%: Residência (17012)\n",
      "12.5%: Estádio (8)\n",
      "11.9%: Posto de gasolina (42)\n",
      "11.1%: Interior de composição férrea (9)\n",
      "10.7%: Hospital, clínica e similares (28)\n",
      "10.7%: Vila (84)\n",
      "9.2%: Outros (4538)\n",
      "8.5%: Estabelecimento hoteleiro (47)\n",
      "8.3%: Ignorado (4041)\n",
      "8.2%: Train station (85)\n",
      "8.0%: Teatro (25)\n",
      "7.7%: Delegacia policial (26)\n",
      "7.7%: Parque (26)\n",
      "7.5%: Apartment (146)\n",
      "6.7%: Condomínio (254)\n",
      "6.6%: Beach (334)\n",
      "6.2%: Night club (16)\n",
      "5.2%: Via pública (55565)\n",
      "3.3%: Hill(?) (852)\n",
      "2.4%: Sítio (85)\n",
      "1.7%: Favela (6911)\n",
      "0.0%: Sports club (9)\n",
      "0.0%: Linha férrea (56)\n",
      "0.0%: Shopping center (10)\n",
      "0.0%: Centro de convenções (1)\n",
      "0.0%: ATM (2)\n",
      "0.0%: Fazenda (45)\n",
      "0.0%: Garagem (2)\n",
      "0.0%: Lagoon (4)\n",
      "0.0%: Estacionamento (14)\n",
      "nan%: Estabelecimento industrial (0)\n",
      "0.0%: Forest (21)\n",
      "0.0%: Escritório (7)\n",
      "0.0%: Country (56)\n",
      "0.0%: Interior de embarcação (5)\n",
      "0.0%: Sea (9)\n",
      "0.0%: Estação metroviária (1)\n",
      "0.0%: River (9)\n",
      "0.0%: Chácara (1)\n",
      "0.0%: Estabelecimento militar (2)\n",
      "0.0%: Interior de aeronave (1)\n",
      "0.0%: Estabelecimento financeiro (3)\n"
     ]
    }
   ],
   "source": [
    "pct_f.sort(key=lambda x:-x[1]+0.0)\n",
    "for i in pct_f:\n",
    "    print (f'{i[1]:.1%}: {p2e(i[0])} ({i[2]})')"
   ]
  },
  {
   "cell_type": "code",
   "execution_count": 33,
   "metadata": {
    "scrolled": true
   },
   "outputs": [
    {
     "name": "stdout",
     "output_type": "stream",
     "text": [
      "58: Estação metroviária (1)\n",
      "46: Chácara (1)\n",
      "35: Estabelecimento militar (2)\n",
      "34: Estabelecimento financeiro (3)\n",
      "32: Casa de show (6)\n",
      "30: Sítio (85)\n",
      "29: Sports club (9)\n",
      "29: Estabelecimento prisional (987)\n",
      "29: Estabelecimento comercial (464)\n",
      "29: Bar/restaurante (345)\n",
      "28: Hospital, clínica e similares (28)\n",
      "28: Supermercado (6)\n",
      "27: Delegacia policial (26)\n",
      "27: Local government building (118)\n",
      "26: Shopping center (10)\n",
      "26: Escritório (7)\n",
      "26: Estabelecimento hoteleiro (47)\n",
      "26: No information (140)\n",
      "25: Garagem (2)\n",
      "25: Estacionamento (14)\n",
      "25: Fazenda (45)\n",
      "24: Residência (17012)\n",
      "24: Posto de gasolina (42)\n",
      "24: Vila (84)\n",
      "23: Bus station (informal) (573)\n",
      "23: Estab. público municipal (26)\n",
      "23: Bus station (formal) (116)\n",
      "23: Motel (20)\n",
      "23: Interior de embarcação (5)\n",
      "23: Instituição religiosa (11)\n",
      "23: Ignorado (4041)\n",
      "23: Linha férrea (56)\n",
      "23: River (9)\n",
      "22: Interior de taxi (35)\n",
      "22: Condomínio (254)\n",
      "22: Aeroporto (8)\n",
      "22: Outros (4538)\n",
      "22: ATM (2)\n",
      "22: Stoplight (19)\n",
      "22: Via pública (55565)\n",
      "22: Sea (9)\n",
      "22: Interior de transporte alternativo (31)\n",
      "22: Night club (16)\n",
      "22: Beach (334)\n",
      "22: Ferry (4)\n",
      "22: Estádio (8)\n",
      "21: Apartment (146)\n",
      "21: Parque (26)\n",
      "21: Favela (6911)\n",
      "21: Hill(?) (852)\n",
      "21: Lagoon (4)\n",
      "21: Estab. público federal (1)\n",
      "21: Teatro (25)\n",
      "21: Centro de convenções (1)\n",
      "20: Country (56)\n",
      "20: Train station (85)\n",
      "20: Forest (21)\n",
      "20: Interior de composição férrea (9)\n",
      "18: school (42)\n",
      "0: Estabelecimento industrial (0)\n",
      "16: Interior de aeronave (1)\n"
     ]
    }
   ],
   "source": [
    "pct_f.sort(key=lambda x:-x[3]+0.0)\n",
    "for i in pct_f:\n",
    "    print (f'{int(i[3]) if i[3]==i[3] else 0}: {p2e(i[0])} ({i[2]})')"
   ]
  },
  {
   "cell_type": "code",
   "execution_count": 9,
   "metadata": {},
   "outputs": [
    {
     "data": {
      "text/plain": [
       "array(['controle', 'ano', 'mes', 'titulo_do', 'dp', 'cisp', 'data_com',\n",
       "       'data_fato', 'hora_com', 'hora_fato', 'municipio_fato', 'aisp',\n",
       "       'risp', 'local', 'sexo', 'data_nasc', 'cor', 'profissao',\n",
       "       'bairro_autor', 'municipio_autor', 'idade', 'relacao'],\n",
       "      dtype=object)"
      ]
     },
     "execution_count": 9,
     "metadata": {},
     "output_type": "execute_result"
    }
   ],
   "source": [
    "d.columns.values\n"
   ]
  },
  {
   "cell_type": "code",
   "execution_count": 21,
   "metadata": {},
   "outputs": [
    {
     "data": {
      "text/plain": [
       "sexo            ano \n",
       "feminino        2016      35\n",
       "                2017      30\n",
       "                2018      39\n",
       "                2019      16\n",
       "ignorado        2016       9\n",
       "                2017       3\n",
       "                2018       5\n",
       "                2019       1\n",
       "masculino       2016    1730\n",
       "                2017    1597\n",
       "                2018    1776\n",
       "                2019    1688\n",
       "sem informação  2016      33\n",
       "                2017      33\n",
       "                2018      21\n",
       "                2019      17\n",
       "Name: controle, dtype: int64"
      ]
     },
     "execution_count": 21,
     "metadata": {},
     "output_type": "execute_result"
    }
   ],
   "source": [
    "fv = d.loc[d[\"local\"]==\"Favela\"]\n",
    "lsa = fv.groupby([\"sexo\", \"ano\"])[\"controle\"].count()\n",
    "lsa"
   ]
  },
  {
   "cell_type": "code",
   "execution_count": 32,
   "metadata": {},
   "outputs": [
    {
     "data": {
      "text/plain": [
       "sexo            ano \n",
       "feminino        2016      47\n",
       "                2017      43\n",
       "                2018      54\n",
       "                2019      52\n",
       "ignorado        2016       4\n",
       "                2017       1\n",
       "                2018       2\n",
       "                2019       2\n",
       "masculino       2016    1208\n",
       "                2017    1279\n",
       "                2018    1350\n",
       "                2019    1155\n",
       "sem informação  2016      61\n",
       "                2017      58\n",
       "                2018      75\n",
       "                2019      40\n",
       "Name: controle, dtype: int64"
      ]
     },
     "execution_count": 32,
     "metadata": {},
     "output_type": "execute_result"
    }
   ],
   "source": [
    "d.loc[(d[\"titulo_do\"]!=\"Apreensão de drogas\")].groupby([\"sexo\", \"ano\"])[\"controle\"].count()"
   ]
  },
  {
   "cell_type": "code",
   "execution_count": 23,
   "metadata": {},
   "outputs": [
    {
     "data": {
      "text/plain": [
       "titulo_do\n",
       "Apreensão de drogas                    88845\n",
       "Homicídio doloso                         978\n",
       "Latrocínio (Roubo seguido de morte)      202\n",
       "Tentativa de homicídio                  4251\n",
       "Name: controle, dtype: int64"
      ]
     },
     "execution_count": 23,
     "metadata": {},
     "output_type": "execute_result"
    }
   ],
   "source": [
    "d.groupby([\"titulo_do\"])[\"controle\"].count()"
   ]
  },
  {
   "cell_type": "code",
   "execution_count": 29,
   "metadata": {},
   "outputs": [
    {
     "data": {
      "text/plain": [
       "sexo            ano \n",
       "feminino        2018     1\n",
       "                2019     2\n",
       "ignorado        2016     1\n",
       "                2018     2\n",
       "masculino       2016    60\n",
       "                2017    71\n",
       "                2018    59\n",
       "                2019    49\n",
       "sem informação  2016     5\n",
       "                2017     5\n",
       "                2018     5\n",
       "                2019     3\n",
       "Name: controle, dtype: int64"
      ]
     },
     "execution_count": 29,
     "metadata": {},
     "output_type": "execute_result"
    }
   ],
   "source": [
    "d.loc[(d[\"local\"]==\"Favela\") & (d[\"titulo_do\"]!=\"Apreensão de drogas\")].groupby([\"sexo\", \"ano\"])[\"controle\"].count()"
   ]
  },
  {
   "cell_type": "code",
   "execution_count": 27,
   "metadata": {},
   "outputs": [
    {
     "data": {
      "text/plain": [
       "0.0376"
      ]
     },
     "execution_count": 27,
     "metadata": {},
     "output_type": "execute_result"
    }
   ],
   "source": [
    "47/1250"
   ]
  },
  {
   "cell_type": "code",
   "execution_count": 31,
   "metadata": {},
   "outputs": [
    {
     "data": {
      "text/plain": [
       "0.01639344262295082"
      ]
     },
     "execution_count": 31,
     "metadata": {},
     "output_type": "execute_result"
    }
   ],
   "source": [
    "1/61"
   ]
  },
  {
   "cell_type": "code",
   "execution_count": 34,
   "metadata": {},
   "outputs": [
    {
     "data": {
      "text/html": [
       "<div>\n",
       "<style scoped>\n",
       "    .dataframe tbody tr th:only-of-type {\n",
       "        vertical-align: middle;\n",
       "    }\n",
       "\n",
       "    .dataframe tbody tr th {\n",
       "        vertical-align: top;\n",
       "    }\n",
       "\n",
       "    .dataframe thead th {\n",
       "        text-align: right;\n",
       "    }\n",
       "</style>\n",
       "<table border=\"1\" class=\"dataframe\">\n",
       "  <thead>\n",
       "    <tr style=\"text-align: right;\">\n",
       "      <th></th>\n",
       "      <th>controle</th>\n",
       "      <th>ano</th>\n",
       "      <th>mes</th>\n",
       "      <th>titulo_do</th>\n",
       "      <th>dp</th>\n",
       "      <th>cisp</th>\n",
       "      <th>data_com</th>\n",
       "      <th>data_fato</th>\n",
       "      <th>hora_com</th>\n",
       "      <th>hora_fato</th>\n",
       "      <th>...</th>\n",
       "      <th>risp</th>\n",
       "      <th>local</th>\n",
       "      <th>sexo</th>\n",
       "      <th>data_nasc</th>\n",
       "      <th>cor</th>\n",
       "      <th>profissao</th>\n",
       "      <th>bairro_autor</th>\n",
       "      <th>municipio_autor</th>\n",
       "      <th>idade</th>\n",
       "      <th>relacao</th>\n",
       "    </tr>\n",
       "  </thead>\n",
       "  <tbody>\n",
       "    <tr>\n",
       "      <th>0</th>\n",
       "      <td>05502701-2016</td>\n",
       "      <td>2016</td>\n",
       "      <td>Janeiro</td>\n",
       "      <td>Apreensão de drogas</td>\n",
       "      <td>099a. Itatiaia</td>\n",
       "      <td>099a. Itatiaia</td>\n",
       "      <td>2016-01-01</td>\n",
       "      <td>2016-01-01</td>\n",
       "      <td>23:59:02</td>\n",
       "      <td>21:50</td>\n",
       "      <td>...</td>\n",
       "      <td>RISP 05</td>\n",
       "      <td>Via pública</td>\n",
       "      <td>masculino</td>\n",
       "      <td>2000-02-10</td>\n",
       "      <td>parda</td>\n",
       "      <td>Outros</td>\n",
       "      <td>Centro</td>\n",
       "      <td>Itatiaia</td>\n",
       "      <td>15.0</td>\n",
       "      <td>Nenhuma</td>\n",
       "    </tr>\n",
       "    <tr>\n",
       "      <th>1</th>\n",
       "      <td>12647581-2016</td>\n",
       "      <td>2016</td>\n",
       "      <td>Janeiro</td>\n",
       "      <td>Tentativa de homicídio</td>\n",
       "      <td>105a. Petrópolis</td>\n",
       "      <td>105a. Petrópolis</td>\n",
       "      <td>2016-01-01</td>\n",
       "      <td>2016-01-01</td>\n",
       "      <td>00:47:50</td>\n",
       "      <td>19:00</td>\n",
       "      <td>...</td>\n",
       "      <td>RISP 07</td>\n",
       "      <td>Residência</td>\n",
       "      <td>masculino</td>\n",
       "      <td>1976-06-16</td>\n",
       "      <td>branca</td>\n",
       "      <td>Jardineiro</td>\n",
       "      <td>Posse</td>\n",
       "      <td>sem informação</td>\n",
       "      <td>39.0</td>\n",
       "      <td>Cunhado(a)</td>\n",
       "    </tr>\n",
       "    <tr>\n",
       "      <th>2</th>\n",
       "      <td>21914291-2016</td>\n",
       "      <td>2016</td>\n",
       "      <td>Janeiro</td>\n",
       "      <td>Tentativa de homicídio</td>\n",
       "      <td>126a. Cabo Frio</td>\n",
       "      <td>126a. Cabo Frio</td>\n",
       "      <td>2016-01-01</td>\n",
       "      <td>2016-01-01</td>\n",
       "      <td>06:28:53</td>\n",
       "      <td>04:00</td>\n",
       "      <td>...</td>\n",
       "      <td>RISP 04</td>\n",
       "      <td>Via pública</td>\n",
       "      <td>masculino</td>\n",
       "      <td>1995-11-18</td>\n",
       "      <td>branca</td>\n",
       "      <td>Desempregado(a)</td>\n",
       "      <td>Praia do siqueira</td>\n",
       "      <td>sem informação</td>\n",
       "      <td>20.0</td>\n",
       "      <td>Ignorado</td>\n",
       "    </tr>\n",
       "  </tbody>\n",
       "</table>\n",
       "<p>3 rows × 22 columns</p>\n",
       "</div>"
      ],
      "text/plain": [
       "        controle   ano      mes               titulo_do                dp  \\\n",
       "0  05502701-2016  2016  Janeiro     Apreensão de drogas    099a. Itatiaia   \n",
       "1  12647581-2016  2016  Janeiro  Tentativa de homicídio  105a. Petrópolis   \n",
       "2  21914291-2016  2016  Janeiro  Tentativa de homicídio   126a. Cabo Frio   \n",
       "\n",
       "               cisp    data_com   data_fato  hora_com hora_fato  ...     risp  \\\n",
       "0    099a. Itatiaia  2016-01-01  2016-01-01  23:59:02     21:50  ...  RISP 05   \n",
       "1  105a. Petrópolis  2016-01-01  2016-01-01  00:47:50     19:00  ...  RISP 07   \n",
       "2   126a. Cabo Frio  2016-01-01  2016-01-01  06:28:53     04:00  ...  RISP 04   \n",
       "\n",
       "         local       sexo   data_nasc     cor        profissao  \\\n",
       "0  Via pública  masculino  2000-02-10   parda           Outros   \n",
       "1   Residência  masculino  1976-06-16  branca       Jardineiro   \n",
       "2  Via pública  masculino  1995-11-18  branca  Desempregado(a)   \n",
       "\n",
       "        bairro_autor municipio_autor idade     relacao  \n",
       "0             Centro        Itatiaia  15.0     Nenhuma  \n",
       "1              Posse  sem informação  39.0  Cunhado(a)  \n",
       "2  Praia do siqueira  sem informação  20.0    Ignorado  \n",
       "\n",
       "[3 rows x 22 columns]"
      ]
     },
     "execution_count": 34,
     "metadata": {},
     "output_type": "execute_result"
    }
   ],
   "source": [
    "d[0:3]"
   ]
  },
  {
   "cell_type": "code",
   "execution_count": 51,
   "metadata": {},
   "outputs": [
    {
     "data": {
      "text/plain": [
       "titulo_do\n",
       "Homicídio doloso                        978\n",
       "Latrocínio (Roubo seguido de morte)     202\n",
       "Tentativa de homicídio                 4251\n",
       "Name: controle, dtype: int64"
      ]
     },
     "execution_count": 51,
     "metadata": {},
     "output_type": "execute_result"
    }
   ],
   "source": [
    "d.groupby([\"titulo_do\"])[\"controle\"].count()[1:20]"
   ]
  },
  {
   "cell_type": "code",
   "execution_count": 52,
   "metadata": {},
   "outputs": [
    {
     "data": {
      "text/plain": [
       "count    92405.000000\n",
       "mean        22.915167\n",
       "std          7.854288\n",
       "min         12.000000\n",
       "25%         18.000000\n",
       "50%         21.000000\n",
       "75%         26.000000\n",
       "max        119.000000\n",
       "Name: idade, dtype: float64"
      ]
     },
     "execution_count": 52,
     "metadata": {},
     "output_type": "execute_result"
    }
   ],
   "source": [
    "d[\"idade\"].describe()"
   ]
  },
  {
   "cell_type": "code",
   "execution_count": null,
   "metadata": {},
   "outputs": [],
   "source": []
  }
 ],
 "metadata": {
  "kernelspec": {
   "display_name": "Python 3",
   "language": "python",
   "name": "python3"
  },
  "language_info": {
   "codemirror_mode": {
    "name": "ipython",
    "version": 3
   },
   "file_extension": ".py",
   "mimetype": "text/x-python",
   "name": "python",
   "nbconvert_exporter": "python",
   "pygments_lexer": "ipython3",
   "version": "3.6.9"
  }
 },
 "nbformat": 4,
 "nbformat_minor": 2
}
